{
  "nbformat": 4,
  "nbformat_minor": 0,
  "metadata": {
    "colab": {
      "provenance": [],
      "toc_visible": true,
      "mount_file_id": "1jbhBStuMf23RdWXsp4d8nePt5c3NE9z_",
      "authorship_tag": "ABX9TyNHeaNStxyG/fETHkz2OUz/",
      "include_colab_link": true
    },
    "kernelspec": {
      "name": "python3",
      "display_name": "Python 3"
    },
    "language_info": {
      "name": "python"
    }
  },
  "cells": [
    {
      "cell_type": "markdown",
      "metadata": {
        "id": "view-in-github",
        "colab_type": "text"
      },
      "source": [
        "<a href=\"https://colab.research.google.com/github/veragluscevic/phys190-fall2023-public/blob/main/blastoff.ipynb\" target=\"_parent\"><img src=\"https://colab.research.google.com/assets/colab-badge.svg\" alt=\"Open In Colab\"/></a>"
      ]
    },
    {
      "cell_type": "markdown",
      "source": [
        "# **python blastoff**\n",
        "\n",
        "\n"
      ],
      "metadata": {
        "id": "mwgFkEIXq5Pf"
      }
    },
    {
      "cell_type": "markdown",
      "source": [
        "Topics covered:\n",
        "\n",
        "- using the python interpreter\n",
        "- assigning values to variables\n",
        "- function calls\n",
        "- operators\n",
        "- using modules and packages\n"
      ],
      "metadata": {
        "id": "3zCPxhP8YCUr"
      }
    },
    {
      "cell_type": "markdown",
      "source": [
        "\n",
        "##**1. Running python interpreter**\n",
        "\n",
        "Python is a high-level language that is easy to learn and which is widely used in physics and in data analysis in general. It is an interpreted language (as opposed to compiled languages like C). You can run python interpreter in several ways: from shell command line, from a script (file with \".py\" extension), or from a notebook (either google colab or jupyter).\n",
        "\n",
        "In this class, we will focus on using python in a colab notebook, such as this one, which you can access through a web browser, and which runs on a server in the cloud. You can find more information about installing python on your own machine in the official online tutorial: https://docs.python.org/3/tutorial/.\n",
        "\n",
        "For starters, notice that a notebook has cells with either code, or with text (called markdown). Following each cell's input comes its output, if there is one."
      ],
      "metadata": {
        "id": "py4se1dYYVYb"
      }
    },
    {
      "cell_type": "markdown",
      "source": [
        "##**2. Variables**\n",
        "\n",
        "Think of python as a calculator:"
      ],
      "metadata": {
        "id": "PCyFzsWfY7DM"
      }
    },
    {
      "cell_type": "code",
      "source": [
        "3 + 2.1"
      ],
      "metadata": {
        "colab": {
          "base_uri": "https://localhost:8080/"
        },
        "id": "sAr585fRZzOR",
        "outputId": "ec7f7e4d-74fa-4593-ba2b-09621136e8eb"
      },
      "execution_count": null,
      "outputs": [
        {
          "output_type": "execute_result",
          "data": {
            "text/plain": [
              "5.1"
            ]
          },
          "metadata": {},
          "execution_count": 97
        }
      ]
    },
    {
      "cell_type": "markdown",
      "source": [
        "which you can also use to assign values to variable names, like this:"
      ],
      "metadata": {
        "id": "RhdoG65xZ20i"
      }
    },
    {
      "cell_type": "code",
      "source": [
        "x = 3\n",
        "y = 2.1\n",
        "z = x + y\n",
        "print(z)\n",
        "print(type(z))"
      ],
      "metadata": {
        "colab": {
          "base_uri": "https://localhost:8080/"
        },
        "id": "_EFGPWoEZ8OI",
        "outputId": "36662f32-cc0a-4a97-fb73-ca3f6534c959"
      },
      "execution_count": null,
      "outputs": [
        {
          "output_type": "stream",
          "name": "stdout",
          "text": [
            "5.1\n",
            "<class 'float'>\n"
          ]
        }
      ]
    },
    {
      "cell_type": "markdown",
      "source": [
        "and you can change your mind about a variable and completely change it on the fly:"
      ],
      "metadata": {
        "id": "wZ2P3lHHaOja"
      }
    },
    {
      "cell_type": "code",
      "source": [
        "y = 'hello'\n",
        "print(y)\n"
      ],
      "metadata": {
        "colab": {
          "base_uri": "https://localhost:8080/"
        },
        "id": "E2Nz0OPXaMp3",
        "outputId": "d862ea5c-10f4-49b0-bf96-3f2d5f976365"
      },
      "execution_count": null,
      "outputs": [
        {
          "output_type": "stream",
          "name": "stdout",
          "text": [
            "hello\n"
          ]
        }
      ]
    },
    {
      "cell_type": "markdown",
      "source": [
        "### **Question**\n",
        "What type is y?"
      ],
      "metadata": {
        "id": "fCvG-Mq3Gfoh"
      }
    },
    {
      "cell_type": "code",
      "source": [
        "type(y) #this is a function, whose argument is y; argument is passed in paranthesis, following variable name."
      ],
      "metadata": {
        "colab": {
          "base_uri": "https://localhost:8080/"
        },
        "id": "qXfKyZLqGk1t",
        "outputId": "d60de143-bb8c-460a-bdb9-b50cfe0d09db"
      },
      "execution_count": null,
      "outputs": [
        {
          "output_type": "execute_result",
          "data": {
            "text/plain": [
              "str"
            ]
          },
          "metadata": {},
          "execution_count": 102
        }
      ]
    },
    {
      "cell_type": "markdown",
      "source": [
        "So, we say that python features **dynamic typing**: type doesn't matter, until you use the variable:"
      ],
      "metadata": {
        "id": "CEfdggbZr9Nl"
      }
    },
    {
      "cell_type": "code",
      "source": [
        "x + y"
      ],
      "metadata": {
        "id": "71xDDeYWJ_d5",
        "colab": {
          "base_uri": "https://localhost:8080/",
          "height": 179
        },
        "outputId": "20c6d6c4-c2fe-40c3-da9b-5ff471981c73"
      },
      "execution_count": null,
      "outputs": [
        {
          "output_type": "error",
          "ename": "TypeError",
          "evalue": "ignored",
          "traceback": [
            "\u001b[0;31m---------------------------------------------------------------------------\u001b[0m",
            "\u001b[0;31mTypeError\u001b[0m                                 Traceback (most recent call last)",
            "\u001b[0;32m<ipython-input-104-cd60f97aa77f>\u001b[0m in \u001b[0;36m<cell line: 1>\u001b[0;34m()\u001b[0m\n\u001b[0;32m----> 1\u001b[0;31m \u001b[0mx\u001b[0m \u001b[0;34m+\u001b[0m \u001b[0my\u001b[0m\u001b[0;34m\u001b[0m\u001b[0;34m\u001b[0m\u001b[0m\n\u001b[0m",
            "\u001b[0;31mTypeError\u001b[0m: unsupported operand type(s) for +: 'int' and 'str'"
          ]
        }
      ]
    },
    {
      "cell_type": "markdown",
      "source": [
        "but python knows when you haven't used a variable before and will warn you about it:"
      ],
      "metadata": {
        "id": "Nu53gy83ahie"
      }
    },
    {
      "cell_type": "code",
      "source": [
        "w"
      ],
      "metadata": {
        "colab": {
          "base_uri": "https://localhost:8080/",
          "height": 179
        },
        "id": "5DRMs0B3a2-P",
        "outputId": "a5738f69-2159-4770-c810-331b4a070dda"
      },
      "execution_count": null,
      "outputs": [
        {
          "output_type": "error",
          "ename": "NameError",
          "evalue": "ignored",
          "traceback": [
            "\u001b[0;31m---------------------------------------------------------------------------\u001b[0m",
            "\u001b[0;31mNameError\u001b[0m                                 Traceback (most recent call last)",
            "\u001b[0;32m<ipython-input-105-74c7db5447c3>\u001b[0m in \u001b[0;36m<cell line: 1>\u001b[0;34m()\u001b[0m\n\u001b[0;32m----> 1\u001b[0;31m \u001b[0mw\u001b[0m\u001b[0;34m\u001b[0m\u001b[0;34m\u001b[0m\u001b[0m\n\u001b[0m",
            "\u001b[0;31mNameError\u001b[0m: name 'w' is not defined"
          ]
        }
      ]
    },
    {
      "cell_type": "markdown",
      "source": [
        "Here are some examples of variable names:"
      ],
      "metadata": {
        "id": "fE70xDJhdceB"
      }
    },
    {
      "cell_type": "code",
      "source": [
        "x_number = 222"
      ],
      "metadata": {
        "id": "CJmrZCjMdfHk"
      },
      "execution_count": null,
      "outputs": []
    },
    {
      "cell_type": "code",
      "source": [
        "_number = 123"
      ],
      "metadata": {
        "id": "k_z2y2w_dlca"
      },
      "execution_count": null,
      "outputs": []
    },
    {
      "cell_type": "code",
      "source": [
        "2number = 2"
      ],
      "metadata": {
        "colab": {
          "base_uri": "https://localhost:8080/",
          "height": 143
        },
        "id": "T3C1NfESdnlo",
        "outputId": "38f2b76b-6be3-499a-a610-8dcf6b1762b4"
      },
      "execution_count": null,
      "outputs": [
        {
          "output_type": "error",
          "ename": "SyntaxError",
          "evalue": "ignored",
          "traceback": [
            "\u001b[0;36m  File \u001b[0;32m\"<ipython-input-108-c8d7d88a09fd>\"\u001b[0;36m, line \u001b[0;32m1\u001b[0m\n\u001b[0;31m    2number = 2\u001b[0m\n\u001b[0m    ^\u001b[0m\n\u001b[0;31mSyntaxError\u001b[0m\u001b[0;31m:\u001b[0m invalid decimal literal\n"
          ]
        }
      ]
    },
    {
      "cell_type": "code",
      "source": [
        "number2 = 2"
      ],
      "metadata": {
        "id": "9hLPlsdxrfZo"
      },
      "execution_count": null,
      "outputs": []
    },
    {
      "cell_type": "markdown",
      "source": [
        " ***NOTE: Read the error message. Search the internet if you don't understand it.***"
      ],
      "metadata": {
        "id": "wnDFRDDMz9cm"
      }
    },
    {
      "cell_type": "markdown",
      "source": [
        "##**3. Operators**"
      ],
      "metadata": {
        "id": "A5rtKtPSZAoe"
      }
    },
    {
      "cell_type": "markdown",
      "source": [
        "Operators are the syntax that python uses to manipulate variables. They can take one or more arguments."
      ],
      "metadata": {
        "id": "DNLVF9ZVwDRl"
      }
    },
    {
      "cell_type": "code",
      "source": [
        "x = 1"
      ],
      "metadata": {
        "id": "7OMn9GYnpx3h"
      },
      "execution_count": null,
      "outputs": []
    },
    {
      "cell_type": "code",
      "source": [
        "-x"
      ],
      "metadata": {
        "colab": {
          "base_uri": "https://localhost:8080/"
        },
        "id": "62tCSR-Nwqvf",
        "outputId": "3e7176c1-b8a5-4a59-9a8b-96ceaf419d75"
      },
      "execution_count": null,
      "outputs": [
        {
          "output_type": "execute_result",
          "data": {
            "text/plain": [
              "-1"
            ]
          },
          "metadata": {},
          "execution_count": 114
        }
      ]
    },
    {
      "cell_type": "code",
      "source": [
        "not x #logical negation"
      ],
      "metadata": {
        "colab": {
          "base_uri": "https://localhost:8080/"
        },
        "id": "OLQScl3XwtDA",
        "outputId": "760f056d-2693-4262-97a3-b928ddca3640"
      },
      "execution_count": null,
      "outputs": [
        {
          "output_type": "execute_result",
          "data": {
            "text/plain": [
              "False"
            ]
          },
          "metadata": {},
          "execution_count": 115
        }
      ]
    },
    {
      "cell_type": "code",
      "source": [
        "del x # undefine (delete) x\n",
        "print(x)"
      ],
      "metadata": {
        "colab": {
          "base_uri": "https://localhost:8080/",
          "height": 197
        },
        "id": "u2gDazoKz0ZN",
        "outputId": "df11def9-c638-4bac-86ca-1a1ee460f3a3"
      },
      "execution_count": null,
      "outputs": [
        {
          "output_type": "error",
          "ename": "NameError",
          "evalue": "ignored",
          "traceback": [
            "\u001b[0;31m---------------------------------------------------------------------------\u001b[0m",
            "\u001b[0;31mNameError\u001b[0m                                 Traceback (most recent call last)",
            "\u001b[0;32m<ipython-input-116-69da203dc9c8>\u001b[0m in \u001b[0;36m<cell line: 2>\u001b[0;34m()\u001b[0m\n\u001b[1;32m      1\u001b[0m \u001b[0;32mdel\u001b[0m \u001b[0mx\u001b[0m \u001b[0;31m# undefine (delete) x\u001b[0m\u001b[0;34m\u001b[0m\u001b[0;34m\u001b[0m\u001b[0m\n\u001b[0;32m----> 2\u001b[0;31m \u001b[0mprint\u001b[0m\u001b[0;34m(\u001b[0m\u001b[0mx\u001b[0m\u001b[0;34m)\u001b[0m\u001b[0;34m\u001b[0m\u001b[0;34m\u001b[0m\u001b[0m\n\u001b[0m",
            "\u001b[0;31mNameError\u001b[0m: name 'x' is not defined"
          ]
        }
      ]
    },
    {
      "cell_type": "code",
      "source": [
        "x = 5\n",
        "y = x # value assignment\n",
        "print(y)\n",
        "print(y == x)\n",
        "print(x != y)\n",
        "print(x > y)\n",
        "#note the common formatting convention to put spaces around binary operators..."
      ],
      "metadata": {
        "colab": {
          "base_uri": "https://localhost:8080/"
        },
        "id": "t69tAtdS0TCi",
        "outputId": "7cefb43d-c8e6-43f6-9ae0-f54abb8090d7"
      },
      "execution_count": null,
      "outputs": [
        {
          "output_type": "stream",
          "name": "stdout",
          "text": [
            "5\n",
            "True\n",
            "False\n",
            "False\n"
          ]
        }
      ]
    },
    {
      "cell_type": "code",
      "source": [
        "True and True # this is logical and # notice that True is a reserved name, it has an intrinsic meaning (boolean value) in python!"
      ],
      "metadata": {
        "colab": {
          "base_uri": "https://localhost:8080/"
        },
        "id": "4PaRmymN1EGf",
        "outputId": "af718c31-fbd4-4381-8400-b6070cf93858"
      },
      "execution_count": null,
      "outputs": [
        {
          "output_type": "execute_result",
          "data": {
            "text/plain": [
              "True"
            ]
          },
          "metadata": {},
          "execution_count": 118
        }
      ]
    },
    {
      "cell_type": "code",
      "source": [
        "True and False"
      ],
      "metadata": {
        "colab": {
          "base_uri": "https://localhost:8080/"
        },
        "id": "Rxc9yDuh1HiY",
        "outputId": "c1ce49ab-3667-4bc5-b633-0f8a560837b5"
      },
      "execution_count": null,
      "outputs": [
        {
          "output_type": "execute_result",
          "data": {
            "text/plain": [
              "False"
            ]
          },
          "metadata": {},
          "execution_count": 119
        }
      ]
    },
    {
      "cell_type": "code",
      "source": [
        "True or False # logical or"
      ],
      "metadata": {
        "colab": {
          "base_uri": "https://localhost:8080/"
        },
        "id": "UgZp8TBe1Jq6",
        "outputId": "343ca1b3-e077-433f-c61e-fee6127c1ec4"
      },
      "execution_count": null,
      "outputs": [
        {
          "output_type": "execute_result",
          "data": {
            "text/plain": [
              "True"
            ]
          },
          "metadata": {},
          "execution_count": 120
        }
      ]
    },
    {
      "cell_type": "code",
      "source": [
        "x + y"
      ],
      "metadata": {
        "colab": {
          "base_uri": "https://localhost:8080/"
        },
        "id": "st5wm2tX1b4p",
        "outputId": "09808f70-8f68-4e6e-916a-2012edf2d451"
      },
      "execution_count": null,
      "outputs": [
        {
          "output_type": "execute_result",
          "data": {
            "text/plain": [
              "10"
            ]
          },
          "metadata": {},
          "execution_count": 121
        }
      ]
    },
    {
      "cell_type": "code",
      "source": [
        "x / (y + 1)"
      ],
      "metadata": {
        "colab": {
          "base_uri": "https://localhost:8080/"
        },
        "id": "iVhTDBql1fvW",
        "outputId": "7737bfb1-cd34-442a-8811-a0fc032720fd"
      },
      "execution_count": null,
      "outputs": [
        {
          "output_type": "execute_result",
          "data": {
            "text/plain": [
              "0.8333333333333334"
            ]
          },
          "metadata": {},
          "execution_count": 122
        }
      ]
    },
    {
      "cell_type": "code",
      "source": [
        "x // (y + 1) # the quotient"
      ],
      "metadata": {
        "colab": {
          "base_uri": "https://localhost:8080/"
        },
        "id": "9ZRv0aCf1jFy",
        "outputId": "b68a8824-d2df-49cb-a31e-57b112e60593"
      },
      "execution_count": null,
      "outputs": [
        {
          "output_type": "execute_result",
          "data": {
            "text/plain": [
              "0"
            ]
          },
          "metadata": {},
          "execution_count": 123
        }
      ]
    },
    {
      "cell_type": "code",
      "source": [
        "x % (y + 1) # the remainder"
      ],
      "metadata": {
        "colab": {
          "base_uri": "https://localhost:8080/"
        },
        "id": "GxYFynnx1lr2",
        "outputId": "ba32530e-818c-48b2-9cdd-a33b7c84bb05"
      },
      "execution_count": null,
      "outputs": [
        {
          "output_type": "execute_result",
          "data": {
            "text/plain": [
              "5"
            ]
          },
          "metadata": {},
          "execution_count": 124
        }
      ]
    },
    {
      "cell_type": "code",
      "source": [
        "x * (y + 1)"
      ],
      "metadata": {
        "colab": {
          "base_uri": "https://localhost:8080/"
        },
        "id": "nntir1SV3tZk",
        "outputId": "bf183eb1-495d-4098-e419-078e54e834b4"
      },
      "execution_count": null,
      "outputs": [
        {
          "output_type": "execute_result",
          "data": {
            "text/plain": [
              "30"
            ]
          },
          "metadata": {},
          "execution_count": 125
        }
      ]
    },
    {
      "cell_type": "code",
      "source": [
        "x**2"
      ],
      "metadata": {
        "colab": {
          "base_uri": "https://localhost:8080/"
        },
        "id": "SXCXXNtN1sXA",
        "outputId": "f33a52f2-f54f-4d6f-c2cb-a5d4acb15515"
      },
      "execution_count": null,
      "outputs": [
        {
          "output_type": "execute_result",
          "data": {
            "text/plain": [
              "25"
            ]
          },
          "metadata": {},
          "execution_count": 126
        }
      ]
    },
    {
      "cell_type": "markdown",
      "source": [
        "##**4. Modules**"
      ],
      "metadata": {
        "id": "iaIWiIrVDR9Z"
      }
    },
    {
      "cell_type": "markdown",
      "source": [
        "Python code is typically written in files with \".py\" extension. When such file is given to python interpreter, it's call a **module**. A collection of modules in a directory is called a **package**. There are many built-in modules and packages that python offers (which come with your installation of python), and many more custom-built ones, for physicists, astronomers, etc. (which you have to manually install).\n",
        "\n",
        "You can access built-in modules and packages with a keyword \"import\", like this:"
      ],
      "metadata": {
        "id": "gjSjo-Z5HHJi"
      }
    },
    {
      "cell_type": "code",
      "source": [
        "math"
      ],
      "metadata": {
        "colab": {
          "base_uri": "https://localhost:8080/"
        },
        "id": "1RgpUGQEe5Va",
        "outputId": "2f7a88ef-6b63-42a3-8b36-0726e39dc584"
      },
      "execution_count": null,
      "outputs": [
        {
          "output_type": "execute_result",
          "data": {
            "text/plain": [
              "<module 'math' (built-in)>"
            ]
          },
          "metadata": {},
          "execution_count": 5
        }
      ]
    },
    {
      "cell_type": "markdown",
      "source": [
        "And you can access variables and functions (attributes and methods, respectively) in that module with a dot operator:"
      ],
      "metadata": {
        "id": "ETRhwY-G2AgX"
      }
    },
    {
      "cell_type": "code",
      "source": [
        "math.pi"
      ],
      "metadata": {
        "colab": {
          "base_uri": "https://localhost:8080/"
        },
        "id": "AYJ5W78Y2IHD",
        "outputId": "65fa4983-989a-4510-f04e-403d747bfcdc"
      },
      "execution_count": null,
      "outputs": [
        {
          "output_type": "execute_result",
          "data": {
            "text/plain": [
              "3.141592653589793"
            ]
          },
          "metadata": {},
          "execution_count": 6
        }
      ]
    },
    {
      "cell_type": "code",
      "source": [
        "import math as m #aliasing imports\n",
        "m.pi"
      ],
      "metadata": {
        "colab": {
          "base_uri": "https://localhost:8080/"
        },
        "id": "Q03408TAjeMB",
        "outputId": "d7485d61-0b19-4e42-a3f8-d18274e18bb7"
      },
      "execution_count": null,
      "outputs": [
        {
          "output_type": "execute_result",
          "data": {
            "text/plain": [
              "3.141592653589793"
            ]
          },
          "metadata": {},
          "execution_count": 34
        }
      ]
    },
    {
      "cell_type": "code",
      "source": [
        "pi"
      ],
      "metadata": {
        "colab": {
          "base_uri": "https://localhost:8080/",
          "height": 179
        },
        "id": "G40DHwrD2Gq_",
        "outputId": "c627a927-c0bd-44e4-fa5e-f5bc520dd4c5"
      },
      "execution_count": null,
      "outputs": [
        {
          "output_type": "error",
          "ename": "NameError",
          "evalue": "ignored",
          "traceback": [
            "\u001b[0;31m---------------------------------------------------------------------------\u001b[0m",
            "\u001b[0;31mNameError\u001b[0m                                 Traceback (most recent call last)",
            "\u001b[0;32m<ipython-input-7-f84ab820532c>\u001b[0m in \u001b[0;36m<cell line: 1>\u001b[0;34m()\u001b[0m\n\u001b[0;32m----> 1\u001b[0;31m \u001b[0mpi\u001b[0m\u001b[0;34m\u001b[0m\u001b[0;34m\u001b[0m\u001b[0m\n\u001b[0m",
            "\u001b[0;31mNameError\u001b[0m: name 'pi' is not defined"
          ]
        }
      ]
    },
    {
      "cell_type": "code",
      "source": [
        "from math import * # use import keyword to read the module content... in this case, all of it!\n",
        "pi"
      ],
      "metadata": {
        "colab": {
          "base_uri": "https://localhost:8080/"
        },
        "id": "Ni03G0H22DfD",
        "outputId": "d8e7f4d9-1304-4dca-ff57-3a18ed91c667"
      },
      "execution_count": null,
      "outputs": [
        {
          "output_type": "execute_result",
          "data": {
            "text/plain": [
              "3.141592653589793"
            ]
          },
          "metadata": {},
          "execution_count": 2
        }
      ]
    },
    {
      "cell_type": "markdown",
      "source": [
        "you can also access various methods this way (which one would you like to try?):"
      ],
      "metadata": {
        "id": "jfo2VohgJmw2"
      }
    },
    {
      "cell_type": "code",
      "source": [
        "math.exp?"
      ],
      "metadata": {
        "id": "OKmxC2OSf9mt"
      },
      "execution_count": null,
      "outputs": []
    },
    {
      "cell_type": "code",
      "source": [
        "math.exp(10)"
      ],
      "metadata": {
        "colab": {
          "base_uri": "https://localhost:8080/"
        },
        "id": "HUk_ZslMgPWh",
        "outputId": "35404caa-a8cb-484f-9245-b89c1f974ce7"
      },
      "execution_count": null,
      "outputs": [
        {
          "output_type": "execute_result",
          "data": {
            "text/plain": [
              "22026.465794806718"
            ]
          },
          "metadata": {},
          "execution_count": 18
        }
      ]
    },
    {
      "cell_type": "markdown",
      "source": [
        "###**Exercise**: cos 90\n",
        "(3 min)\n",
        "\n",
        "Compute cosine of 90 degrees."
      ],
      "metadata": {
        "id": "Kl9AuSLQ2331"
      }
    },
    {
      "cell_type": "code",
      "source": [
        "cos(90)\n"
      ],
      "metadata": {
        "colab": {
          "base_uri": "https://localhost:8080/"
        },
        "id": "0vTdnqo92gwK",
        "outputId": "576eaa5f-9ae6-4a42-daab-c7e8b3d88585"
      },
      "execution_count": null,
      "outputs": [
        {
          "output_type": "execute_result",
          "data": {
            "text/plain": [
              "-0.4480736161291701"
            ]
          },
          "metadata": {},
          "execution_count": 3
        }
      ]
    },
    {
      "cell_type": "markdown",
      "source": [
        "###**Question**\n",
        "Cos of 90 degrees should be zero... what went wrong?? (Answer: the argument is expected to be in radians!)"
      ],
      "metadata": {
        "id": "kghCenyG2rBB"
      }
    },
    {
      "cell_type": "code",
      "source": [
        "cos(pi/2)"
      ],
      "metadata": {
        "colab": {
          "base_uri": "https://localhost:8080/"
        },
        "id": "1ZrOTjdn3V2a",
        "outputId": "ad19481d-60c5-4af0-933f-3bab236c92cf"
      },
      "execution_count": null,
      "outputs": [
        {
          "output_type": "execute_result",
          "data": {
            "text/plain": [
              "6.123233995736766e-17"
            ]
          },
          "metadata": {},
          "execution_count": 20
        }
      ]
    },
    {
      "cell_type": "markdown",
      "source": [
        "This is effectively zero! But machine precision is limited."
      ],
      "metadata": {
        "id": "J_yHenhA3cE6"
      }
    },
    {
      "cell_type": "markdown",
      "source": [
        "##**BONUS**"
      ],
      "metadata": {
        "id": "NUE1LU2WsR8H"
      }
    },
    {
      "cell_type": "markdown",
      "source": [
        "Special variables:"
      ],
      "metadata": {
        "id": "ttzbzLRUsWCx"
      }
    },
    {
      "cell_type": "code",
      "source": [
        "x = None\n",
        "print(x)"
      ],
      "metadata": {
        "colab": {
          "base_uri": "https://localhost:8080/"
        },
        "id": "DJXyPbfYsT9a",
        "outputId": "b361807d-3997-4da2-ca6e-3a4869216d18"
      },
      "execution_count": null,
      "outputs": [
        {
          "output_type": "stream",
          "name": "stdout",
          "text": [
            "None\n"
          ]
        }
      ]
    },
    {
      "cell_type": "code",
      "source": [
        "x == 0"
      ],
      "metadata": {
        "colab": {
          "base_uri": "https://localhost:8080/"
        },
        "id": "eBAp3ZGMsaV7",
        "outputId": "8b579abf-a6b9-400c-df33-8f1e8851383f"
      },
      "execution_count": null,
      "outputs": [
        {
          "output_type": "execute_result",
          "data": {
            "text/plain": [
              "False"
            ]
          },
          "metadata": {},
          "execution_count": 6
        }
      ]
    },
    {
      "cell_type": "code",
      "source": [
        "x == w"
      ],
      "metadata": {
        "colab": {
          "base_uri": "https://localhost:8080/",
          "height": 179
        },
        "id": "PkMbF3Lxsd_W",
        "outputId": "21005ff0-2357-4a12-eae8-15eee83b8015"
      },
      "execution_count": null,
      "outputs": [
        {
          "output_type": "error",
          "ename": "NameError",
          "evalue": "ignored",
          "traceback": [
            "\u001b[0;31m---------------------------------------------------------------------------\u001b[0m",
            "\u001b[0;31mNameError\u001b[0m                                 Traceback (most recent call last)",
            "\u001b[0;32m<ipython-input-7-70ad3fbebade>\u001b[0m in \u001b[0;36m<cell line: 1>\u001b[0;34m()\u001b[0m\n\u001b[0;32m----> 1\u001b[0;31m \u001b[0mx\u001b[0m \u001b[0;34m==\u001b[0m \u001b[0mw\u001b[0m\u001b[0;34m\u001b[0m\u001b[0;34m\u001b[0m\u001b[0m\n\u001b[0m",
            "\u001b[0;31mNameError\u001b[0m: name 'w' is not defined"
          ]
        }
      ]
    },
    {
      "cell_type": "code",
      "source": [
        "y = False"
      ],
      "metadata": {
        "id": "nnvBy0x1sfYh"
      },
      "execution_count": null,
      "outputs": []
    },
    {
      "cell_type": "code",
      "source": [
        "y == x"
      ],
      "metadata": {
        "colab": {
          "base_uri": "https://localhost:8080/"
        },
        "id": "OPzh4MUysi8M",
        "outputId": "5287463e-71d5-4e1d-a5e9-be61cc31802e"
      },
      "execution_count": null,
      "outputs": [
        {
          "output_type": "execute_result",
          "data": {
            "text/plain": [
              "False"
            ]
          },
          "metadata": {},
          "execution_count": 9
        }
      ]
    },
    {
      "cell_type": "code",
      "source": [
        "False == None"
      ],
      "metadata": {
        "colab": {
          "base_uri": "https://localhost:8080/"
        },
        "id": "sag_9QngskfZ",
        "outputId": "676e6f97-8632-401e-b8a3-9369bf14fdfd"
      },
      "execution_count": null,
      "outputs": [
        {
          "output_type": "execute_result",
          "data": {
            "text/plain": [
              "False"
            ]
          },
          "metadata": {},
          "execution_count": 10
        }
      ]
    },
    {
      "cell_type": "code",
      "source": [
        "bool(0)"
      ],
      "metadata": {
        "colab": {
          "base_uri": "https://localhost:8080/"
        },
        "id": "XO8PzlI_sn39",
        "outputId": "6c103360-b4d7-4f8a-c9eb-9c8a11ea262c"
      },
      "execution_count": null,
      "outputs": [
        {
          "output_type": "execute_result",
          "data": {
            "text/plain": [
              "False"
            ]
          },
          "metadata": {},
          "execution_count": 12
        }
      ]
    },
    {
      "cell_type": "code",
      "source": [
        "bool(1)"
      ],
      "metadata": {
        "colab": {
          "base_uri": "https://localhost:8080/"
        },
        "id": "XTHFEQBgsrEm",
        "outputId": "0067804a-559e-4ad8-aab1-91587d12aae5"
      },
      "execution_count": null,
      "outputs": [
        {
          "output_type": "execute_result",
          "data": {
            "text/plain": [
              "True"
            ]
          },
          "metadata": {},
          "execution_count": 13
        }
      ]
    },
    {
      "cell_type": "code",
      "source": [
        "bool(25)"
      ],
      "metadata": {
        "colab": {
          "base_uri": "https://localhost:8080/"
        },
        "id": "TPtzjU9bssFR",
        "outputId": "85edeee6-3703-480c-d557-d56d4b39e90e"
      },
      "execution_count": null,
      "outputs": [
        {
          "output_type": "execute_result",
          "data": {
            "text/plain": [
              "True"
            ]
          },
          "metadata": {},
          "execution_count": 14
        }
      ]
    },
    {
      "cell_type": "code",
      "source": [
        "bool(-1)"
      ],
      "metadata": {
        "colab": {
          "base_uri": "https://localhost:8080/"
        },
        "id": "xstYDR6MstGu",
        "outputId": "609b1dcd-8909-47c5-ff18-ce40348160c4"
      },
      "execution_count": null,
      "outputs": [
        {
          "output_type": "execute_result",
          "data": {
            "text/plain": [
              "True"
            ]
          },
          "metadata": {},
          "execution_count": 15
        }
      ]
    },
    {
      "cell_type": "code",
      "source": [
        "bool(x==y)"
      ],
      "metadata": {
        "colab": {
          "base_uri": "https://localhost:8080/"
        },
        "id": "0THz2Sj9suLF",
        "outputId": "78111305-8ebc-453d-bce2-a437ccd86fc4"
      },
      "execution_count": null,
      "outputs": [
        {
          "output_type": "execute_result",
          "data": {
            "text/plain": [
              "False"
            ]
          },
          "metadata": {},
          "execution_count": 16
        }
      ]
    },
    {
      "cell_type": "code",
      "source": [
        "bool(x==x)"
      ],
      "metadata": {
        "colab": {
          "base_uri": "https://localhost:8080/"
        },
        "id": "WmTqxQg9swac",
        "outputId": "61afcd53-1954-4a8c-ac08-ccae73006697"
      },
      "execution_count": null,
      "outputs": [
        {
          "output_type": "execute_result",
          "data": {
            "text/plain": [
              "True"
            ]
          },
          "metadata": {},
          "execution_count": 17
        }
      ]
    }
  ]
}